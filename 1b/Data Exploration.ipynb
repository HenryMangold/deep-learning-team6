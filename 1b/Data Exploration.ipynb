{
 "cells": [
  {
   "cell_type": "code",
   "execution_count": 39,
   "metadata": {},
   "outputs": [
    {
     "name": "stdout",
     "output_type": "stream",
     "text": [
      "Requirement already satisfied: opencv-python in /home/dl6/anaconda3/envs/tf-gpu/lib/python3.8/site-packages (4.4.0.46)\r\n",
      "Requirement already satisfied: numpy>=1.17.3 in /home/dl6/anaconda3/envs/tf-gpu/lib/python3.8/site-packages (from opencv-python) (1.19.2)\r\n"
     ]
    }
   ],
   "source": [
    "import pandas as pd\n",
    "!pip install opencv-python"
   ]
  },
  {
   "cell_type": "code",
   "execution_count": 52,
   "metadata": {},
   "outputs": [
    {
     "name": "stdout",
     "output_type": "stream",
     "text": [
      "4.4.0\n",
      "87 images are extacted in Frames_video77.\n"
     ]
    }
   ],
   "source": [
    "# create a folder to store extracted images\n",
    "import os\n",
    "folder = 'Frames_video77'  \n",
    "os.mkdir(folder)\n",
    "# use opencv to do the job\n",
    "import cv2\n",
    "print(cv2.__version__)  # my version is 3.1.0\n",
    "vidcap = cv2.VideoCapture('00077.mp4')\n",
    "count = 0\n",
    "while True:\n",
    "    success,image = vidcap.read()\n",
    "    if not success:\n",
    "        break\n",
    "    cv2.imwrite(os.path.join(folder,\"frame{:d}.jpg\".format(count)), image)     # save frame as JPEG file\n",
    "    count += 1\n",
    "print(\"{} images are extacted in {}.\".format(count,folder))"
   ]
  },
  {
   "cell_type": "code",
   "execution_count": null,
   "metadata": {},
   "outputs": [],
   "source": []
  }
 ],
 "metadata": {
  "kernelspec": {
   "display_name": "Python 3",
   "language": "python",
   "name": "python3"
  },
  "language_info": {
   "codemirror_mode": {
    "name": "ipython",
    "version": 3
   },
   "file_extension": ".py",
   "mimetype": "text/x-python",
   "name": "python",
   "nbconvert_exporter": "python",
   "pygments_lexer": "ipython3",
   "version": "3.8.5"
  }
 },
 "nbformat": 4,
 "nbformat_minor": 2
}
