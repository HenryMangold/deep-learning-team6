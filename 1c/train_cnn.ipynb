{
 "cells": [
  {
   "cell_type": "code",
   "execution_count": 13,
   "metadata": {},
   "outputs": [
    {
     "output_type": "stream",
     "name": "stdout",
     "text": [
      "[{'ID': '76', 'label': 'Side\\n'}, {'ID': '77', 'label': 'Side\\n'}, {'ID': '78', 'label': 'Downwards\\n'}, {'ID': '79', 'label': 'Side\\n'}, {'ID': '80', 'label': 'Downwards\\n'}, {'ID': '81', 'label': 'Upwards\\n'}, {'ID': '82', 'label': 'Side\\n'}, {'ID': '83', 'label': 'Front\\n'}, {'ID': '84', 'label': 'Side\\n'}, {'ID': '85', 'label': 'Side\\n'}, {'ID': '86', 'label': 'Downwards\\n'}, {'ID': '87', 'label': 'Side\\n'}, {'ID': '88', 'label': 'Front\\n'}, {'ID': '89', 'label': 'Side\\n'}, {'ID': '90', 'label': 'Front\\n'}, {'ID': '91', 'label': 'Side\\n'}, {'ID': '92', 'label': 'Side\\n'}, {'ID': '93', 'label': 'Downwards\\n'}, {'ID': '94', 'label': 'Front\\n'}, {'ID': '95', 'label': 'Side\\n'}, {'ID': '96', 'label': 'Side\\n'}, {'ID': '97', 'label': 'Front\\n'}, {'ID': '98', 'label': 'Side\\n'}, {'ID': '99', 'label': 'Downwards\\n'}]\n"
     ]
    }
   ],
   "source": [
    "import csv\n",
    "fileName = './Video_Camera_Labeling.csv'\n",
    "labels = []\n",
    "for label in open(fileName):\n",
    "    parts = label.split(';')\n",
    "    labels.append({'ID': parts[0],'label': parts[2]})\n",
    "labels.pop(0)\n",
    "print(labels)\n",
    "\n"
   ]
  },
  {
   "cell_type": "code",
   "execution_count": null,
   "metadata": {},
   "outputs": [],
   "source": []
  }
 ],
 "metadata": {
  "kernelspec": {
   "display_name": "Python 3",
   "language": "python",
   "name": "python3"
  },
  "language_info": {
   "codemirror_mode": {
    "name": "ipython",
    "version": 3
   },
   "file_extension": ".py",
   "mimetype": "text/x-python",
   "name": "python",
   "nbconvert_exporter": "python",
   "pygments_lexer": "ipython3",
   "version": "3.8.5-final"
  }
 },
 "nbformat": 4,
 "nbformat_minor": 4
}